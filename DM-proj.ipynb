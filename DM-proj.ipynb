{
 "cells": [
  {
   "cell_type": "markdown",
   "metadata": {},
   "source": [
    "Advanced Data Mining Project\n",
    "\n",
    "Elida and Dalila "
   ]
  },
  {
   "cell_type": "code",
   "execution_count": 1,
   "metadata": {},
   "outputs": [],
   "source": [
    "import pandas as pd\n"
   ]
  },
  {
   "cell_type": "code",
   "execution_count": 23,
   "metadata": {},
   "outputs": [],
   "source": [
    "df = pd.read_csv(r'dataset_traffic_accident_prediction1.csv')\n"
   ]
  },
  {
   "cell_type": "code",
   "execution_count": 24,
   "metadata": {},
   "outputs": [
    {
     "name": "stdout",
     "output_type": "stream",
     "text": [
      "  Weather   Road_Type Time_of_Day  Traffic_Density  Speed_Limit  \\\n",
      "0   Rainy   City Road     Morning              1.0        100.0   \n",
      "1   Clear  Rural Road       Night              NaN        120.0   \n",
      "2   Rainy     Highway     Evening              1.0         60.0   \n",
      "3   Clear   City Road   Afternoon              2.0         60.0   \n",
      "4   Rainy     Highway     Morning              1.0        195.0   \n",
      "\n",
      "   Number_of_Vehicles  Driver_Alcohol Accident_Severity      Road_Condition  \\\n",
      "0                 5.0             0.0               NaN                 Wet   \n",
      "1                 3.0             0.0          Moderate                 Wet   \n",
      "2                 4.0             0.0               Low                 Icy   \n",
      "3                 3.0             0.0               Low  Under Construction   \n",
      "4                11.0             0.0               Low                 Dry   \n",
      "\n",
      "  Vehicle_Type  Driver_Age  Driver_Experience Road_Light_Condition  Accident  \n",
      "0          Car        51.0               48.0     Artificial Light       0.0  \n",
      "1        Truck        49.0               43.0     Artificial Light       0.0  \n",
      "2          Car        54.0               52.0     Artificial Light       0.0  \n",
      "3          Bus        34.0               31.0             Daylight       0.0  \n",
      "4          Car        62.0               55.0     Artificial Light       1.0  \n"
     ]
    }
   ],
   "source": [
    "print(df.head())\n"
   ]
  },
  {
   "cell_type": "code",
   "execution_count": 25,
   "metadata": {},
   "outputs": [
    {
     "name": "stdout",
     "output_type": "stream",
     "text": [
      "<class 'pandas.core.frame.DataFrame'>\n",
      "RangeIndex: 840 entries, 0 to 839\n",
      "Data columns (total 14 columns):\n",
      " #   Column                Non-Null Count  Dtype  \n",
      "---  ------                --------------  -----  \n",
      " 0   Weather               798 non-null    object \n",
      " 1   Road_Type             798 non-null    object \n",
      " 2   Time_of_Day           798 non-null    object \n",
      " 3   Traffic_Density       798 non-null    float64\n",
      " 4   Speed_Limit           798 non-null    float64\n",
      " 5   Number_of_Vehicles    798 non-null    float64\n",
      " 6   Driver_Alcohol        798 non-null    float64\n",
      " 7   Accident_Severity     798 non-null    object \n",
      " 8   Road_Condition        798 non-null    object \n",
      " 9   Vehicle_Type          798 non-null    object \n",
      " 10  Driver_Age            798 non-null    float64\n",
      " 11  Driver_Experience     798 non-null    float64\n",
      " 12  Road_Light_Condition  798 non-null    object \n",
      " 13  Accident              798 non-null    float64\n",
      "dtypes: float64(7), object(7)\n",
      "memory usage: 92.0+ KB\n"
     ]
    }
   ],
   "source": [
    "df.info()"
   ]
  },
  {
   "cell_type": "markdown",
   "metadata": {},
   "source": [
    "Transforming the data"
   ]
  },
  {
   "cell_type": "markdown",
   "metadata": {},
   "source": [
    "Transforming the values for the weather features\n",
    "Clear: 0 \n",
    "Rainy: 1 \n",
    "Foggy: 2 \n",
    "Snowy: 3 \n",
    "Stormy: 4"
   ]
  },
  {
   "cell_type": "code",
   "execution_count": 26,
   "metadata": {},
   "outputs": [
    {
     "name": "stdout",
     "output_type": "stream",
     "text": [
      "0      1.0\n",
      "1      0.0\n",
      "2      1.0\n",
      "3      0.0\n",
      "4      1.0\n",
      "      ... \n",
      "835    0.0\n",
      "836    1.0\n",
      "837    2.0\n",
      "838    2.0\n",
      "839    0.0\n",
      "Name: Weather, Length: 840, dtype: float64\n"
     ]
    }
   ],
   "source": [
    "#Lida\n",
    "weather_mapping = {\n",
    "    'Clear': 0,\n",
    "    'Rainy': 1,\n",
    "    'Foggy': 2,\n",
    "    'Snowy': 3,\n",
    "    'Stormy': 4\n",
    "}\n",
    "df['Weather'] = df['Weather'].map(weather_mapping)\n",
    "print(df['Weather'])"
   ]
  },
  {
   "cell_type": "code",
   "execution_count": 27,
   "metadata": {},
   "outputs": [
    {
     "name": "stdout",
     "output_type": "stream",
     "text": [
      "[ 1.  0.  2.  4. nan  3.]\n"
     ]
    }
   ],
   "source": [
    "unique_values = df['Weather'].unique()\n",
    "print(unique_values)"
   ]
  },
  {
   "cell_type": "code",
   "execution_count": 28,
   "metadata": {},
   "outputs": [
    {
     "name": "stdout",
     "output_type": "stream",
     "text": [
      "<class 'pandas.core.frame.DataFrame'>\n",
      "RangeIndex: 840 entries, 0 to 839\n",
      "Data columns (total 14 columns):\n",
      " #   Column                Non-Null Count  Dtype  \n",
      "---  ------                --------------  -----  \n",
      " 0   Weather               798 non-null    float64\n",
      " 1   Road_Type             798 non-null    object \n",
      " 2   Time_of_Day           798 non-null    object \n",
      " 3   Traffic_Density       798 non-null    float64\n",
      " 4   Speed_Limit           798 non-null    float64\n",
      " 5   Number_of_Vehicles    798 non-null    float64\n",
      " 6   Driver_Alcohol        798 non-null    float64\n",
      " 7   Accident_Severity     798 non-null    object \n",
      " 8   Road_Condition        798 non-null    object \n",
      " 9   Vehicle_Type          798 non-null    object \n",
      " 10  Driver_Age            798 non-null    float64\n",
      " 11  Driver_Experience     798 non-null    float64\n",
      " 12  Road_Light_Condition  798 non-null    object \n",
      " 13  Accident              798 non-null    float64\n",
      "dtypes: float64(8), object(6)\n",
      "memory usage: 92.0+ KB\n"
     ]
    }
   ],
   "source": [
    "df.info()"
   ]
  },
  {
   "cell_type": "code",
   "execution_count": 29,
   "metadata": {},
   "outputs": [],
   "source": [
    "road_type_mapping = {\n",
    "    'Highway': 0,\n",
    "    'City Road': 1,\n",
    "    'Rural Road': 2,\n",
    "    'Mountain Road': 3\n",
    "}\n",
    "\n",
    "df['Road_Type'] = df['Road_Type'].map(road_type_mapping)\n"
   ]
  },
  {
   "cell_type": "code",
   "execution_count": 30,
   "metadata": {},
   "outputs": [
    {
     "name": "stdout",
     "output_type": "stream",
     "text": [
      "[ 1.  2.  0. nan  3.]\n"
     ]
    }
   ],
   "source": [
    "unique_values = df['Road_Type'].unique()\n",
    "print(unique_values)"
   ]
  },
  {
   "cell_type": "code",
   "execution_count": 31,
   "metadata": {},
   "outputs": [
    {
     "name": "stdout",
     "output_type": "stream",
     "text": [
      "0      0.0\n",
      "1      3.0\n",
      "2      2.0\n",
      "3      1.0\n",
      "4      0.0\n",
      "      ... \n",
      "835    3.0\n",
      "836    2.0\n",
      "837    2.0\n",
      "838    1.0\n",
      "839    1.0\n",
      "Name: Time_of_Day, Length: 840, dtype: float64\n"
     ]
    }
   ],
   "source": [
    "time_of_day_mapping = {\n",
    "    'Morning': 0,\n",
    "    'Afternoon': 1,\n",
    "    'Evening': 2,\n",
    "    'Night': 3\n",
    "}\n",
    "df['Time_of_Day'] = df['Time_of_Day'].map(time_of_day_mapping)\n",
    "print(df['Time_of_Day'])"
   ]
  },
  {
   "cell_type": "markdown",
   "metadata": {},
   "source": [
    "Transforming the feature Accident Severity : Low - 0 ; Moderate - 1; High - 2"
   ]
  },
  {
   "cell_type": "code",
   "execution_count": 32,
   "metadata": {},
   "outputs": [
    {
     "name": "stdout",
     "output_type": "stream",
     "text": [
      "<class 'pandas.core.frame.DataFrame'>\n",
      "RangeIndex: 840 entries, 0 to 839\n",
      "Data columns (total 14 columns):\n",
      " #   Column                Non-Null Count  Dtype  \n",
      "---  ------                --------------  -----  \n",
      " 0   Weather               798 non-null    float64\n",
      " 1   Road_Type             798 non-null    float64\n",
      " 2   Time_of_Day           798 non-null    float64\n",
      " 3   Traffic_Density       798 non-null    float64\n",
      " 4   Speed_Limit           798 non-null    float64\n",
      " 5   Number_of_Vehicles    798 non-null    float64\n",
      " 6   Driver_Alcohol        798 non-null    float64\n",
      " 7   Accident_Severity     798 non-null    object \n",
      " 8   Road_Condition        798 non-null    object \n",
      " 9   Vehicle_Type          798 non-null    object \n",
      " 10  Driver_Age            798 non-null    float64\n",
      " 11  Driver_Experience     798 non-null    float64\n",
      " 12  Road_Light_Condition  798 non-null    object \n",
      " 13  Accident              798 non-null    float64\n",
      "dtypes: float64(10), object(4)\n",
      "memory usage: 92.0+ KB\n"
     ]
    }
   ],
   "source": [
    "df.info()"
   ]
  },
  {
   "cell_type": "markdown",
   "metadata": {},
   "source": [
    "accident_severity_mapping = {'Low': 0, 'Moderate': 1, 'High': 2}\n",
    "\n",
    "road_condition_mapping = {'Dry': 0, 'Wet': 1, 'Icy': 2, 'Under Construction': 3}\n",
    "\n",
    "vehicle_type_mapping = {'Car': 0, 'Truck': 1, 'Motorcycle': 2, 'Bus': 3}\n",
    "\n",
    "road_light_condition_mapping = {'Daylight': 0, 'Artificial Light': 1, 'No Light': 2}\n",
    "\n",
    "\n",
    "\n",
    "df['Accident_Severity'] = df['Accident_Severity'].map(accident_severity_mapping)\n",
    "\n",
    "df['Road_Condition'] = df['Road_Condition'].map(road_condition_mapping)\n",
    "\n",
    "df['Vehicle_Type'] = df['Vehicle_Type'].map(vehicle_type_mapping)\n",
    "\n",
    "df['Road_Light_Condition'] = df['Road_Light_Condition'].map(road_light_condition_mapping)\n",
    "\n",
    "\n",
    "print(df)"
   ]
  },
  {
   "cell_type": "code",
   "execution_count": 33,
   "metadata": {},
   "outputs": [],
   "source": [
    "#Dalca\n"
   ]
  },
  {
   "cell_type": "code",
   "execution_count": 34,
   "metadata": {},
   "outputs": [
    {
     "name": "stdout",
     "output_type": "stream",
     "text": [
      "Total number of rows: 840\n"
     ]
    }
   ],
   "source": [
    "# to check how many rows of data we have\n",
    "total_rows = df.shape[0]\n",
    "print(\"Total number of rows:\", total_rows)\n"
   ]
  },
  {
   "cell_type": "code",
   "execution_count": 35,
   "metadata": {},
   "outputs": [
    {
     "name": "stdout",
     "output_type": "stream",
     "text": [
      "Weather                 42\n",
      "Road_Type               42\n",
      "Time_of_Day             42\n",
      "Traffic_Density         42\n",
      "Speed_Limit             42\n",
      "Number_of_Vehicles      42\n",
      "Driver_Alcohol          42\n",
      "Accident_Severity       42\n",
      "Road_Condition          42\n",
      "Vehicle_Type            42\n",
      "Driver_Age              42\n",
      "Driver_Experience       42\n",
      "Road_Light_Condition    42\n",
      "Accident                42\n",
      "dtype: int64\n"
     ]
    }
   ],
   "source": [
    "missing_values = df.isnull().sum()\n",
    "print(missing_values)\n"
   ]
  },
  {
   "cell_type": "code",
   "execution_count": 36,
   "metadata": {},
   "outputs": [
    {
     "name": "stdout",
     "output_type": "stream",
     "text": [
      "Weather                 5.0\n",
      "Road_Type               5.0\n",
      "Time_of_Day             5.0\n",
      "Traffic_Density         5.0\n",
      "Speed_Limit             5.0\n",
      "Number_of_Vehicles      5.0\n",
      "Driver_Alcohol          5.0\n",
      "Accident_Severity       5.0\n",
      "Road_Condition          5.0\n",
      "Vehicle_Type            5.0\n",
      "Driver_Age              5.0\n",
      "Driver_Experience       5.0\n",
      "Road_Light_Condition    5.0\n",
      "Accident                5.0\n",
      "dtype: float64\n",
      "Columns with missing values:\n",
      "Weather                 5.0\n",
      "Road_Type               5.0\n",
      "Time_of_Day             5.0\n",
      "Traffic_Density         5.0\n",
      "Speed_Limit             5.0\n",
      "Number_of_Vehicles      5.0\n",
      "Driver_Alcohol          5.0\n",
      "Accident_Severity       5.0\n",
      "Road_Condition          5.0\n",
      "Vehicle_Type            5.0\n",
      "Driver_Age              5.0\n",
      "Driver_Experience       5.0\n",
      "Road_Light_Condition    5.0\n",
      "Accident                5.0\n",
      "dtype: float64\n"
     ]
    }
   ],
   "source": [
    "missing_percentage = (df.isnull().sum() / len(df)) * 100\n",
    "\n",
    "\n",
    "print(missing_percentage)\n",
    "\n",
    "\n",
    "missing_columns = missing_percentage[missing_percentage > 0]\n",
    "print(\"Columns with missing values:\")\n",
    "print(missing_columns)"
   ]
  },
  {
   "cell_type": "code",
   "execution_count": 37,
   "metadata": {},
   "outputs": [
    {
     "name": "stdout",
     "output_type": "stream",
     "text": [
      "Total number of columns: 14\n"
     ]
    }
   ],
   "source": [
    "total_columns = len(df.columns)\n",
    "print(\"Total number of columns:\", total_columns)"
   ]
  },
  {
   "cell_type": "code",
   "execution_count": 38,
   "metadata": {},
   "outputs": [
    {
     "name": "stdout",
     "output_type": "stream",
     "text": [
      "Number of columns with at least one missing value: 14\n"
     ]
    }
   ],
   "source": [
    "columns_with_missing_values = df.isnull().any()\n",
    "number_of_columns_with_missing = columns_with_missing_values.sum()\n",
    "print(\"Number of columns with at least one missing value:\", number_of_columns_with_missing)"
   ]
  },
  {
   "cell_type": "markdown",
   "metadata": {},
   "source": [
    "All 14 features have at least 1 missing value instance and based on the findings above all of the features have 42 missing instances or 5% of data is missing."
   ]
  },
  {
   "cell_type": "code",
   "execution_count": 39,
   "metadata": {},
   "outputs": [],
   "source": [
    "# We created three copies of the original df for different imputation techniques\n",
    "df_deletion = df.copy()\n",
    "df_mean_imputation = df.copy()\n",
    "df_median_imputation = df.copy()"
   ]
  },
  {
   "cell_type": "code",
   "execution_count": 40,
   "metadata": {},
   "outputs": [
    {
     "name": "stdout",
     "output_type": "stream",
     "text": [
      "Remaining rows in df_deletion: 405\n"
     ]
    }
   ],
   "source": [
    "df_deletion.dropna(inplace=True)\n",
    "print(\"Remaining rows in df_deletion:\", len(df_deletion))"
   ]
  },
  {
   "cell_type": "code",
   "execution_count": 41,
   "metadata": {},
   "outputs": [
    {
     "name": "stdout",
     "output_type": "stream",
     "text": [
      "<class 'pandas.core.frame.DataFrame'>\n",
      "Index: 405 entries, 2 to 839\n",
      "Data columns (total 14 columns):\n",
      " #   Column                Non-Null Count  Dtype  \n",
      "---  ------                --------------  -----  \n",
      " 0   Weather               405 non-null    float64\n",
      " 1   Road_Type             405 non-null    float64\n",
      " 2   Time_of_Day           405 non-null    float64\n",
      " 3   Traffic_Density       405 non-null    float64\n",
      " 4   Speed_Limit           405 non-null    float64\n",
      " 5   Number_of_Vehicles    405 non-null    float64\n",
      " 6   Driver_Alcohol        405 non-null    float64\n",
      " 7   Accident_Severity     405 non-null    object \n",
      " 8   Road_Condition        405 non-null    object \n",
      " 9   Vehicle_Type          405 non-null    object \n",
      " 10  Driver_Age            405 non-null    float64\n",
      " 11  Driver_Experience     405 non-null    float64\n",
      " 12  Road_Light_Condition  405 non-null    object \n",
      " 13  Accident              405 non-null    float64\n",
      "dtypes: float64(10), object(4)\n",
      "memory usage: 47.5+ KB\n"
     ]
    }
   ],
   "source": [
    "df_deletion.info()"
   ]
  },
  {
   "cell_type": "markdown",
   "metadata": {},
   "source": [
    "Now we need to "
   ]
  }
 ],
 "metadata": {
  "kernelspec": {
   "display_name": "Python 3",
   "language": "python",
   "name": "python3"
  },
  "language_info": {
   "codemirror_mode": {
    "name": "ipython",
    "version": 3
   },
   "file_extension": ".py",
   "mimetype": "text/x-python",
   "name": "python",
   "nbconvert_exporter": "python",
   "pygments_lexer": "ipython3",
   "version": "3.11.9"
  }
 },
 "nbformat": 4,
 "nbformat_minor": 2
}
