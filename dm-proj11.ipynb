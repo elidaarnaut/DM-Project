{
 "cells": [
  {
   "cell_type": "code",
   "execution_count": 1,
   "metadata": {},
   "outputs": [],
   "source": [
    "import pandas as pd"
   ]
  },
  {
   "cell_type": "code",
   "execution_count": 2,
   "metadata": {},
   "outputs": [],
   "source": [
    "df = pd.read_csv(r'dataset_traffic_accident_prediction1.csv')"
   ]
  },
  {
   "cell_type": "code",
   "execution_count": 3,
   "metadata": {},
   "outputs": [
    {
     "name": "stdout",
     "output_type": "stream",
     "text": [
      "  Weather   Road_Type Time_of_Day  Traffic_Density  Speed_Limit  \\\n",
      "0   Rainy   City Road     Morning              1.0        100.0   \n",
      "1   Clear  Rural Road       Night              NaN        120.0   \n",
      "2   Rainy     Highway     Evening              1.0         60.0   \n",
      "3   Clear   City Road   Afternoon              2.0         60.0   \n",
      "4   Rainy     Highway     Morning              1.0        195.0   \n",
      "\n",
      "   Number_of_Vehicles  Driver_Alcohol Accident_Severity      Road_Condition  \\\n",
      "0                 5.0             0.0               NaN                 Wet   \n",
      "1                 3.0             0.0          Moderate                 Wet   \n",
      "2                 4.0             0.0               Low                 Icy   \n",
      "3                 3.0             0.0               Low  Under Construction   \n",
      "4                11.0             0.0               Low                 Dry   \n",
      "\n",
      "  Vehicle_Type  Driver_Age  Driver_Experience Road_Light_Condition  Accident  \n",
      "0          Car        51.0               48.0     Artificial Light       0.0  \n",
      "1        Truck        49.0               43.0     Artificial Light       0.0  \n",
      "2          Car        54.0               52.0     Artificial Light       0.0  \n",
      "3          Bus        34.0               31.0             Daylight       0.0  \n",
      "4          Car        62.0               55.0     Artificial Light       1.0  \n"
     ]
    }
   ],
   "source": [
    "print(df.head())"
   ]
  },
  {
   "cell_type": "code",
   "execution_count": 7,
   "metadata": {},
   "outputs": [
    {
     "name": "stdout",
     "output_type": "stream",
     "text": [
      "Unique values in Accident_Severity:\n",
      "[nan 'Moderate' 'Low' 'High']\n"
     ]
    }
   ],
   "source": [
    "unique_values = df['Accident_Severity'].unique()\n",
    "\n",
    "# Print the unique options\n",
    "print(\"Unique values in Accident_Severity:\")\n",
    "print(unique_values)"
   ]
  },
  {
   "cell_type": "code",
   "execution_count": 4,
   "metadata": {},
   "outputs": [
    {
     "name": "stdout",
     "output_type": "stream",
     "text": [
      "<class 'pandas.core.frame.DataFrame'>\n",
      "RangeIndex: 840 entries, 0 to 839\n",
      "Data columns (total 14 columns):\n",
      " #   Column                Non-Null Count  Dtype  \n",
      "---  ------                --------------  -----  \n",
      " 0   Weather               798 non-null    object \n",
      " 1   Road_Type             798 non-null    object \n",
      " 2   Time_of_Day           798 non-null    object \n",
      " 3   Traffic_Density       798 non-null    float64\n",
      " 4   Speed_Limit           798 non-null    float64\n",
      " 5   Number_of_Vehicles    798 non-null    float64\n",
      " 6   Driver_Alcohol        798 non-null    float64\n",
      " 7   Accident_Severity     798 non-null    object \n",
      " 8   Road_Condition        798 non-null    object \n",
      " 9   Vehicle_Type          798 non-null    object \n",
      " 10  Driver_Age            798 non-null    float64\n",
      " 11  Driver_Experience     798 non-null    float64\n",
      " 12  Road_Light_Condition  798 non-null    object \n",
      " 13  Accident              798 non-null    float64\n",
      "dtypes: float64(7), object(7)\n",
      "memory usage: 92.0+ KB\n"
     ]
    }
   ],
   "source": [
    "df.info()"
   ]
  },
  {
   "cell_type": "code",
   "execution_count": 6,
   "metadata": {},
   "outputs": [
    {
     "name": "stdout",
     "output_type": "stream",
     "text": [
      "Unique values in Weather: ['Rainy' 'Clear' 'Foggy' 'Stormy' nan 'Snowy']\n",
      "Unique values in Road_Type: ['City Road' 'Rural Road' 'Highway' nan 'Mountain Road']\n",
      "Unique values in Time_of_Day: ['Morning' 'Night' 'Evening' 'Afternoon' nan]\n",
      "Unique values in Traffic_Density: [ 1. nan  2.  0.]\n",
      "Unique values in Speed_Limit: [100. 120.  60. 195.  30.  nan  50.  80. 200. 206. 178. 208. 213. 190.\n",
      " 196. 188. 194. 189. 193. 185. 199. 192. 198. 212. 181.]\n",
      "Unique values in Number_of_Vehicles: [ 5.  3.  4. 11.  2.  1. nan 12. 13. 14. 10.]\n",
      "Unique values in Driver_Alcohol: [ 0.  1. nan]\n",
      "Unique values in Accident_Severity: [nan 'Moderate' 'Low' 'High']\n",
      "Unique values in Road_Condition: ['Wet' 'Icy' 'Under Construction' 'Dry' nan]\n",
      "Unique values in Vehicle_Type: ['Car' 'Truck' 'Bus' 'Motorcycle' nan]\n",
      "Unique values in Driver_Age: [51. 49. 54. 34. 62. 27. 29. 38. 50. 33. 47. 25. 67. 61. 46. 48. 53. 35.\n",
      " 59. 32. 69. 68. 28. 40. 30. 60. 66. nan 63. 65. 18. 55. 45. 22. 26. 58.\n",
      " 23. 57. 43. 41. 64. 42. 56. 52. 44. 20. 24. 19. 37. 21. 39. 36. 31.]\n",
      "Unique values in Driver_Experience: [48. 43. 52. 31. 55. 26. 22. 29. 28. 38. 16. 63. 57. nan 41. 32. 53. 23.\n",
      " 24. 47. 64. 60. 25. 65. 13. 36. 37. 21. 54. 14. 19. 49. 39. 58. 66. 17.\n",
      " 59. 42. 46. 18. 61. 30. 51. 56. 34. 10. 27. 50. 33. 20. 67. 69. 40. 62.\n",
      " 44. 12. 45. 15. 35. 11.  9.]\n",
      "Unique values in Road_Light_Condition: ['Artificial Light' 'Daylight' 'No Light' nan]\n",
      "Unique values in Accident: [ 0.  1. nan]\n"
     ]
    }
   ],
   "source": [
    "for column in df.columns:\n",
    "    unique_values = df[column].unique()\n",
    "    print(f\"Unique values in {column}: {unique_values}\")\n"
   ]
  }
 ],
 "metadata": {
  "kernelspec": {
   "display_name": "Python 3",
   "language": "python",
   "name": "python3"
  },
  "language_info": {
   "codemirror_mode": {
    "name": "ipython",
    "version": 3
   },
   "file_extension": ".py",
   "mimetype": "text/x-python",
   "name": "python",
   "nbconvert_exporter": "python",
   "pygments_lexer": "ipython3",
   "version": "3.11.9"
  }
 },
 "nbformat": 4,
 "nbformat_minor": 2
}
